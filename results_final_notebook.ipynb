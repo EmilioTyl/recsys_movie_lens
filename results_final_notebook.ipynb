{
 "cells": [
  {
   "cell_type": "code",
   "execution_count": 1,
   "metadata": {},
   "outputs": [],
   "source": [
    "from recomenders import SLIM, ItemBasedCF, PureSVD\n",
    "from movielens_dataset import *\n",
    "from evaluation import *\n",
    "import numpy as np\n",
    "import pandas as pd\n",
    "import matplotlib.pyplot as plt\n",
    "%matplotlib inline\n",
    "import warnings\n",
    "warnings.filterwarnings('ignore')"
   ]
  },
  {
   "cell_type": "code",
   "execution_count": 2,
   "metadata": {},
   "outputs": [
    {
     "name": "stdout",
     "output_type": "stream",
     "text": [
      "La BD has 1000209 ratings\n",
      "La BD has  6040  users\n",
      "La BD has  3706  movies\n",
      "La BD has 100000 ratings\n",
      "La BD has  943  users\n",
      "La BD has  1682  movies\n"
     ]
    }
   ],
   "source": [
    "data_1_M = get_1M_movielens()\n",
    "data_100k = get_100K_movilens()"
   ]
  },
  {
   "cell_type": "markdown",
   "metadata": {},
   "source": [
    "# Hit Rate metric\n",
    "Metric extracted from paper \"SLIM: Sparse Linear Methods\""
   ]
  },
  {
   "cell_type": "markdown",
   "metadata": {},
   "source": [
    "### SLIM\n",
    "First, I will anlyse the hit rate performance of SLIM model according to the value N and the original rate."
   ]
  },
  {
   "cell_type": "code",
   "execution_count": 22,
   "metadata": {},
   "outputs": [
    {
     "name": "stdout",
     "output_type": "stream",
     "text": [
      "Prepare data\n",
      "Total movies 3706\n",
      "Filtered movies  3043\n",
      "(989452, 5)\n",
      "(6040, 5)\n",
      "Users: 6040\n",
      "Movies: 3043\n"
     ]
    }
   ],
   "source": [
    "loocv = 1\n",
    "hits_rate_list = []\n",
    "\n",
    "print(\"Prepare data\")\n",
    "data_train, data_test = split_train_val_by_user(data_1_M, assign_=assign_loocv)\n",
    "user_item = get_user_item(data_train)"
   ]
  },
  {
   "cell_type": "code",
   "execution_count": 24,
   "metadata": {},
   "outputs": [
    {
     "name": "stdout",
     "output_type": "stream",
     "text": [
      "Train\n",
      "Training for item  500\n",
      "loss  0.3633221891820029\n",
      "Training for item  1000\n",
      "loss  0.4563641910681005\n",
      "Training for item  1500\n",
      "loss  0.4201124713889176\n",
      "Training for item  2000\n",
      "loss  0.3995642751734988\n",
      "Training for item  2500\n",
      "loss  0.3971259229478295\n",
      "Training for item  3000\n",
      "loss  0.38192355197299516\n"
     ]
    }
   ],
   "source": [
    "slim = SLIM()\n",
    "print(\"Train\")\n",
    "slim.fit(user_item)"
   ]
  },
  {
   "cell_type": "code",
   "execution_count": 25,
   "metadata": {},
   "outputs": [
    {
     "data": {
      "text/html": [
       "<div>\n",
       "<style scoped>\n",
       "    .dataframe tbody tr th:only-of-type {\n",
       "        vertical-align: middle;\n",
       "    }\n",
       "\n",
       "    .dataframe tbody tr th {\n",
       "        vertical-align: top;\n",
       "    }\n",
       "\n",
       "    .dataframe thead th {\n",
       "        text-align: right;\n",
       "    }\n",
       "</style>\n",
       "<table border=\"1\" class=\"dataframe\">\n",
       "  <thead>\n",
       "    <tr style=\"text-align: right;\">\n",
       "      <th></th>\n",
       "      <th>rate</th>\n",
       "      <th>hits</th>\n",
       "      <th>qty</th>\n",
       "      <th>hit_rate</th>\n",
       "    </tr>\n",
       "  </thead>\n",
       "  <tbody>\n",
       "    <tr>\n",
       "      <th>0</th>\n",
       "      <td>1</td>\n",
       "      <td>19</td>\n",
       "      <td>311</td>\n",
       "      <td>0.061093</td>\n",
       "    </tr>\n",
       "    <tr>\n",
       "      <th>1</th>\n",
       "      <td>2</td>\n",
       "      <td>52</td>\n",
       "      <td>581</td>\n",
       "      <td>0.089501</td>\n",
       "    </tr>\n",
       "    <tr>\n",
       "      <th>2</th>\n",
       "      <td>3</td>\n",
       "      <td>201</td>\n",
       "      <td>1421</td>\n",
       "      <td>0.141450</td>\n",
       "    </tr>\n",
       "    <tr>\n",
       "      <th>3</th>\n",
       "      <td>4</td>\n",
       "      <td>502</td>\n",
       "      <td>2083</td>\n",
       "      <td>0.240999</td>\n",
       "    </tr>\n",
       "    <tr>\n",
       "      <th>4</th>\n",
       "      <td>5</td>\n",
       "      <td>620</td>\n",
       "      <td>1644</td>\n",
       "      <td>0.377129</td>\n",
       "    </tr>\n",
       "  </tbody>\n",
       "</table>\n",
       "</div>"
      ],
      "text/plain": [
       "   rate  hits   qty  hit_rate\n",
       "0     1    19   311  0.061093\n",
       "1     2    52   581  0.089501\n",
       "2     3   201  1421  0.141450\n",
       "3     4   502  2083  0.240999\n",
       "4     5   620  1644  0.377129"
      ]
     },
     "execution_count": 25,
     "metadata": {},
     "output_type": "execute_result"
    }
   ],
   "source": [
    "hit_rate(slim, data_test)"
   ]
  },
  {
   "cell_type": "code",
   "execution_count": 26,
   "metadata": {},
   "outputs": [
    {
     "name": "stdout",
     "output_type": "stream",
     "text": [
      "Evaluate\n"
     ]
    }
   ],
   "source": [
    "print(\"Evaluate\")\n",
    "top_N = slim.all_useres_recomendation(N=25)\n",
    "hits_rate_list = []\n",
    "for n in range(5,30,5):\n",
    "    hits = hit_rate(slim, data_test,top_N=top_N[:,:n])\n",
    "    hits[\"N\"] = n\n",
    "    hits_rate_list.append(hits)\n",
    "hits_slim_df = pd.concat(hits_rate_list)"
   ]
  },
  {
   "cell_type": "code",
   "execution_count": 27,
   "metadata": {},
   "outputs": [
    {
     "data": {
      "text/plain": [
       "<matplotlib.axes._subplots.AxesSubplot at 0x11ae73dd0>"
      ]
     },
     "execution_count": 27,
     "metadata": {},
     "output_type": "execute_result"
    },
    {
     "data": {
      "image/png": "[encoded data removed]",
      "text/plain": [
       "<Figure size 432x288 with 1 Axes>"
      ]
     },
     "metadata": {
      "needs_background": "light"
     },
     "output_type": "display_data"
    }
   ],
   "source": [
    "grouped_by_N = hits_slim_df.groupby(\"N\").agg({\"hits\":\"sum\", \"qty\":\"sum\"})\n",
    "grouped_by_N[\"hit_rate\"] =  grouped_by_N[\"hits\"]/grouped_by_N[\"qty\"]\n",
    "grouped_by_N.plot.bar(y=\"hit_rate\")"
   ]
  },
  {
   "cell_type": "code",
   "execution_count": 39,
   "metadata": {},
   "outputs": [
    {
     "data": {
      "text/plain": [
       "<Figure size 720x576 with 0 Axes>"
      ]
     },
     "metadata": {},
     "output_type": "display_data"
    },
    {
     "data": {
      "image/png": "[encoded data removed]",
      "text/plain": [
       "<Figure size 432x288 with 1 Axes>"
      ]
     },
     "metadata": {
      "needs_background": "light"
     },
     "output_type": "display_data"
    }
   ],
   "source": [
    "plt.figure(figsize=(10,8))\n",
    "hits_slim_df.pivot(\"rate\", \"N\", \"hit_rate\").plot(kind='bar')\n",
    "plt.xlabel(\"ground truth rate\")\n",
    "plt.ylabel(\"hit rate\")\n",
    "plt.title(\"SLIM Segemented hit rate \")\n",
    "plt.grid()\n",
    "plt.savefig(\"./images/slim_segmented_hr.png\")"
   ]
  },
  {
   "cell_type": "markdown",
   "metadata": {},
   "source": [
    "### PureSvd\n",
    "\n",
    "The paper \"Performance of Recomender Algorithms\" sugest a model called PureSvd that basically exploits the sparcity of the user matrix to efficiently compute a SVD factorization. Following I evaluate and compare hit rate performances with SLIM."
   ]
  },
  {
   "cell_type": "code",
   "execution_count": 31,
   "metadata": {},
   "outputs": [
    {
     "name": "stdout",
     "output_type": "stream",
     "text": [
      "Train\n"
     ]
    }
   ],
   "source": [
    "pure_svd = PureSVD(latent_factors=40)\n",
    "print(\"Train\")\n",
    "pure_svd.fit(user_item)"
   ]
  },
  {
   "cell_type": "code",
   "execution_count": 32,
   "metadata": {},
   "outputs": [
    {
     "name": "stdout",
     "output_type": "stream",
     "text": [
      "Evaluate\n"
     ]
    }
   ],
   "source": [
    "print(\"Evaluate\")\n",
    "top_N = pure_svd.all_useres_recomendation(N=25)\n",
    "hits_rate_list = []\n",
    "for n in range(5,30,5):\n",
    "    hits = hit_rate(pure_svd, data_test,top_N=top_N[:,:n])\n",
    "    hits[\"N\"] = n\n",
    "    hits_rate_list.append(hits)\n",
    "hits_pure_svd_df = pd.concat(hits_rate_list)"
   ]
  },
  {
   "cell_type": "code",
   "execution_count": 55,
   "metadata": {},
   "outputs": [
    {
     "data": {
      "text/plain": [
       "<matplotlib.axes._subplots.AxesSubplot at 0x1181f4050>"
      ]
     },
     "execution_count": 55,
     "metadata": {},
     "output_type": "execute_result"
    },
    {
     "data": {
      "image/png": "[encoded data removed]",
      "text/plain": [
       "<Figure size 432x288 with 1 Axes>"
      ]
     },
     "metadata": {
      "needs_background": "light"
     },
     "output_type": "display_data"
    }
   ],
   "source": [
    "grouped_by_N = hits_pure_svd_df.groupby(\"N\").agg({\"hits\":\"sum\", \"qty\":\"sum\"})\n",
    "grouped_by_N[\"hit_rate\"] =  grouped_by_N[\"hits\"]/grouped_by_N[\"qty\"]\n",
    "grouped_by_N.plot.bar(y=\"hit_rate\")"
   ]
  },
  {
   "cell_type": "code",
   "execution_count": 40,
   "metadata": {},
   "outputs": [
    {
     "data": {
      "image/png": "[encoded data removed]",
      "text/plain": [
       "<Figure size 432x288 with 1 Axes>"
      ]
     },
     "metadata": {
      "needs_background": "light"
     },
     "output_type": "display_data"
    }
   ],
   "source": [
    "hits_pure_svd_df.pivot(\"rate\", \"N\", \"hit_rate\").plot(kind='bar')\n",
    "plt.xlabel(\"ground truth rate\")\n",
    "plt.ylabel(\"hit rate\")\n",
    "plt.title(\"PureSVD Segemented hit rate \")\n",
    "plt.grid()\n",
    "plt.savefig(\"./images/pure_svd_segmented_hr.png\")"
   ]
  },
  {
   "cell_type": "markdown",
   "metadata": {},
   "source": [
    "Comparision with SLIM model."
   ]
  },
  {
   "cell_type": "code",
   "execution_count": 42,
   "metadata": {},
   "outputs": [
    {
     "data": {
      "image/png": "[encoded data removed]",
      "text/plain": [
       "<Figure size 432x288 with 1 Axes>"
      ]
     },
     "metadata": {
      "needs_background": "light"
     },
     "output_type": "display_data"
    }
   ],
   "source": [
    "hits_slim_df[\"algorithm\"] = \"SLIM\"\n",
    "hits_pure_svd_df[\"algorithm\"] = \"PureSVD\"\n",
    "df = pd.concat((hits_slim_df, hits_pure_svd_df))\n",
    "grouped_by_N = df.groupby([\"N\", \"algorithm\"]).agg({\"hits\":\"sum\", \"qty\":\"sum\"})\n",
    "grouped_by_N[\"hit_rate\"] =  grouped_by_N[\"hits\"]/grouped_by_N[\"qty\"]\n",
    "grouped_by_N = grouped_by_N.reset_index()\n",
    "grouped_by_N.pivot(\"N\", \"algorithm\", \"hit_rate\").plot(kind='bar')\n",
    "plt.grid()\n",
    "plt.ylabel(\"hit rate\")\n",
    "plt.title(\"SLIM vs PureSVD HR by N\")\n",
    "plt.savefig(\"./images/svd_slim_comp.png\")"
   ]
  },
  {
   "cell_type": "code",
   "execution_count": 58,
   "metadata": {},
   "outputs": [
    {
     "data": {
      "text/plain": [
       "<matplotlib.axes._subplots.AxesSubplot at 0x119c91850>"
      ]
     },
     "execution_count": 58,
     "metadata": {},
     "output_type": "execute_result"
    },
    {
     "data": {
      "image/png": "[encoded data removed]",
      "text/plain": [
       "<Figure size 432x288 with 1 Axes>"
      ]
     },
     "metadata": {
      "needs_background": "light"
     },
     "output_type": "display_data"
    }
   ],
   "source": [
    "df[df.N == 10].pivot(\"rate\", \"algorithm\", \"hit_rate\").plot(kind='bar')"
   ]
  },
  {
   "cell_type": "code",
   "execution_count": 43,
   "metadata": {},
   "outputs": [
    {
     "data": {
      "text/html": [
       "<div>\n",
       "<style scoped>\n",
       "    .dataframe tbody tr th:only-of-type {\n",
       "        vertical-align: middle;\n",
       "    }\n",
       "\n",
       "    .dataframe tbody tr th {\n",
       "        vertical-align: top;\n",
       "    }\n",
       "\n",
       "    .dataframe thead th {\n",
       "        text-align: right;\n",
       "    }\n",
       "</style>\n",
       "<table border=\"1\" class=\"dataframe\">\n",
       "  <thead>\n",
       "    <tr style=\"text-align: right;\">\n",
       "      <th></th>\n",
       "      <th>rate</th>\n",
       "      <th>hits</th>\n",
       "      <th>qty</th>\n",
       "      <th>hit_rate</th>\n",
       "      <th>N</th>\n",
       "      <th>algorithm</th>\n",
       "    </tr>\n",
       "  </thead>\n",
       "  <tbody>\n",
       "    <tr>\n",
       "      <th>0</th>\n",
       "      <td>1</td>\n",
       "      <td>19</td>\n",
       "      <td>311</td>\n",
       "      <td>0.061093</td>\n",
       "      <td>10</td>\n",
       "      <td>SLIM</td>\n",
       "    </tr>\n",
       "    <tr>\n",
       "      <th>1</th>\n",
       "      <td>2</td>\n",
       "      <td>52</td>\n",
       "      <td>581</td>\n",
       "      <td>0.089501</td>\n",
       "      <td>10</td>\n",
       "      <td>SLIM</td>\n",
       "    </tr>\n",
       "    <tr>\n",
       "      <th>2</th>\n",
       "      <td>3</td>\n",
       "      <td>201</td>\n",
       "      <td>1421</td>\n",
       "      <td>0.141450</td>\n",
       "      <td>10</td>\n",
       "      <td>SLIM</td>\n",
       "    </tr>\n",
       "    <tr>\n",
       "      <th>3</th>\n",
       "      <td>4</td>\n",
       "      <td>502</td>\n",
       "      <td>2083</td>\n",
       "      <td>0.240999</td>\n",
       "      <td>10</td>\n",
       "      <td>SLIM</td>\n",
       "    </tr>\n",
       "    <tr>\n",
       "      <th>4</th>\n",
       "      <td>5</td>\n",
       "      <td>620</td>\n",
       "      <td>1644</td>\n",
       "      <td>0.377129</td>\n",
       "      <td>10</td>\n",
       "      <td>SLIM</td>\n",
       "    </tr>\n",
       "    <tr>\n",
       "      <th>0</th>\n",
       "      <td>1</td>\n",
       "      <td>14</td>\n",
       "      <td>311</td>\n",
       "      <td>0.045016</td>\n",
       "      <td>10</td>\n",
       "      <td>PureSVD</td>\n",
       "    </tr>\n",
       "    <tr>\n",
       "      <th>1</th>\n",
       "      <td>2</td>\n",
       "      <td>58</td>\n",
       "      <td>581</td>\n",
       "      <td>0.099828</td>\n",
       "      <td>10</td>\n",
       "      <td>PureSVD</td>\n",
       "    </tr>\n",
       "    <tr>\n",
       "      <th>2</th>\n",
       "      <td>3</td>\n",
       "      <td>198</td>\n",
       "      <td>1421</td>\n",
       "      <td>0.139338</td>\n",
       "      <td>10</td>\n",
       "      <td>PureSVD</td>\n",
       "    </tr>\n",
       "    <tr>\n",
       "      <th>3</th>\n",
       "      <td>4</td>\n",
       "      <td>476</td>\n",
       "      <td>2083</td>\n",
       "      <td>0.228517</td>\n",
       "      <td>10</td>\n",
       "      <td>PureSVD</td>\n",
       "    </tr>\n",
       "    <tr>\n",
       "      <th>4</th>\n",
       "      <td>5</td>\n",
       "      <td>586</td>\n",
       "      <td>1644</td>\n",
       "      <td>0.356448</td>\n",
       "      <td>10</td>\n",
       "      <td>PureSVD</td>\n",
       "    </tr>\n",
       "  </tbody>\n",
       "</table>\n",
       "</div>"
      ],
      "text/plain": [
       "   rate  hits   qty  hit_rate   N algorithm\n",
       "0     1    19   311  0.061093  10      SLIM\n",
       "1     2    52   581  0.089501  10      SLIM\n",
       "2     3   201  1421  0.141450  10      SLIM\n",
       "3     4   502  2083  0.240999  10      SLIM\n",
       "4     5   620  1644  0.377129  10      SLIM\n",
       "0     1    14   311  0.045016  10   PureSVD\n",
       "1     2    58   581  0.099828  10   PureSVD\n",
       "2     3   198  1421  0.139338  10   PureSVD\n",
       "3     4   476  2083  0.228517  10   PureSVD\n",
       "4     5   586  1644  0.356448  10   PureSVD"
      ]
     },
     "execution_count": 43,
     "metadata": {},
     "output_type": "execute_result"
    }
   ],
   "source": [
    "df[df.N == 10]"
   ]
  },
  {
   "cell_type": "code",
   "execution_count": 59,
   "metadata": {},
   "outputs": [
    {
     "data": {
      "text/plain": [
       "<matplotlib.axes._subplots.AxesSubplot at 0x11a8999d0>"
      ]
     },
     "execution_count": 59,
     "metadata": {},
     "output_type": "execute_result"
    },
    {
     "data": {
      "image/png": "[encoded data removed]",
      "text/plain": [
       "<Figure size 432x288 with 1 Axes>"
      ]
     },
     "metadata": {
      "needs_background": "light"
     },
     "output_type": "display_data"
    }
   ],
   "source": [
    "df[df.N == 20].pivot(\"rate\", \"algorithm\", \"hit_rate\").plot(kind='bar')"
   ]
  },
  {
   "cell_type": "markdown",
   "metadata": {},
   "source": [
    "### Item-based\n",
    "Following is the hit rate analysis of item-based knn model. It uses a smaller dataset in order to accelerate the evaluation."
   ]
  },
  {
   "cell_type": "code",
   "execution_count": 7,
   "metadata": {},
   "outputs": [
    {
     "name": "stdout",
     "output_type": "stream",
     "text": [
      "Prepare data\n",
      "Total movies 1682\n",
      "Filtered movies  939\n",
      "(94025, 8)\n",
      "(943, 8)\n",
      "Users: 943\n",
      "Movies: 939\n",
      "Train\n"
     ]
    }
   ],
   "source": [
    "loocv = 1\n",
    "hits_rate_list_knn = []\n",
    "print(\"Prepare data\")\n",
    "data_train, data_test = split_train_val_by_user(data_100k, assign_=assign_loocv)\n",
    "user_item = get_user_item(data_train)\n",
    "knn = ItemBasedCF(knei=40)\n",
    "print(\"Train\")\n",
    "knn.fit(data_train)"
   ]
  },
  {
   "cell_type": "code",
   "execution_count": 8,
   "metadata": {},
   "outputs": [
    {
     "name": "stdout",
     "output_type": "stream",
     "text": [
      "Evaluate\n"
     ]
    },
    {
     "data": {
      "text/html": [
       "<div>\n",
       "<style scoped>\n",
       "    .dataframe tbody tr th:only-of-type {\n",
       "        vertical-align: middle;\n",
       "    }\n",
       "\n",
       "    .dataframe tbody tr th {\n",
       "        vertical-align: top;\n",
       "    }\n",
       "\n",
       "    .dataframe thead th {\n",
       "        text-align: right;\n",
       "    }\n",
       "</style>\n",
       "<table border=\"1\" class=\"dataframe\">\n",
       "  <thead>\n",
       "    <tr style=\"text-align: right;\">\n",
       "      <th></th>\n",
       "      <th>rate</th>\n",
       "      <th>hits</th>\n",
       "      <th>qty</th>\n",
       "      <th>hit_rate</th>\n",
       "      <th>N</th>\n",
       "    </tr>\n",
       "  </thead>\n",
       "  <tbody>\n",
       "    <tr>\n",
       "      <th>0</th>\n",
       "      <td>1</td>\n",
       "      <td>0</td>\n",
       "      <td>58</td>\n",
       "      <td>0.000000</td>\n",
       "      <td>5</td>\n",
       "    </tr>\n",
       "    <tr>\n",
       "      <th>1</th>\n",
       "      <td>2</td>\n",
       "      <td>0</td>\n",
       "      <td>90</td>\n",
       "      <td>0.000000</td>\n",
       "      <td>5</td>\n",
       "    </tr>\n",
       "    <tr>\n",
       "      <th>2</th>\n",
       "      <td>3</td>\n",
       "      <td>1</td>\n",
       "      <td>247</td>\n",
       "      <td>0.004049</td>\n",
       "      <td>5</td>\n",
       "    </tr>\n",
       "    <tr>\n",
       "      <th>3</th>\n",
       "      <td>4</td>\n",
       "      <td>5</td>\n",
       "      <td>310</td>\n",
       "      <td>0.016129</td>\n",
       "      <td>5</td>\n",
       "    </tr>\n",
       "    <tr>\n",
       "      <th>4</th>\n",
       "      <td>5</td>\n",
       "      <td>14</td>\n",
       "      <td>238</td>\n",
       "      <td>0.058824</td>\n",
       "      <td>5</td>\n",
       "    </tr>\n",
       "    <tr>\n",
       "      <th>0</th>\n",
       "      <td>1</td>\n",
       "      <td>0</td>\n",
       "      <td>58</td>\n",
       "      <td>0.000000</td>\n",
       "      <td>10</td>\n",
       "    </tr>\n",
       "    <tr>\n",
       "      <th>1</th>\n",
       "      <td>2</td>\n",
       "      <td>0</td>\n",
       "      <td>90</td>\n",
       "      <td>0.000000</td>\n",
       "      <td>10</td>\n",
       "    </tr>\n",
       "    <tr>\n",
       "      <th>2</th>\n",
       "      <td>3</td>\n",
       "      <td>2</td>\n",
       "      <td>247</td>\n",
       "      <td>0.008097</td>\n",
       "      <td>10</td>\n",
       "    </tr>\n",
       "    <tr>\n",
       "      <th>3</th>\n",
       "      <td>4</td>\n",
       "      <td>7</td>\n",
       "      <td>310</td>\n",
       "      <td>0.022581</td>\n",
       "      <td>10</td>\n",
       "    </tr>\n",
       "    <tr>\n",
       "      <th>4</th>\n",
       "      <td>5</td>\n",
       "      <td>20</td>\n",
       "      <td>238</td>\n",
       "      <td>0.084034</td>\n",
       "      <td>10</td>\n",
       "    </tr>\n",
       "    <tr>\n",
       "      <th>0</th>\n",
       "      <td>1</td>\n",
       "      <td>0</td>\n",
       "      <td>58</td>\n",
       "      <td>0.000000</td>\n",
       "      <td>15</td>\n",
       "    </tr>\n",
       "    <tr>\n",
       "      <th>1</th>\n",
       "      <td>2</td>\n",
       "      <td>0</td>\n",
       "      <td>90</td>\n",
       "      <td>0.000000</td>\n",
       "      <td>15</td>\n",
       "    </tr>\n",
       "    <tr>\n",
       "      <th>2</th>\n",
       "      <td>3</td>\n",
       "      <td>3</td>\n",
       "      <td>247</td>\n",
       "      <td>0.012146</td>\n",
       "      <td>15</td>\n",
       "    </tr>\n",
       "    <tr>\n",
       "      <th>3</th>\n",
       "      <td>4</td>\n",
       "      <td>15</td>\n",
       "      <td>310</td>\n",
       "      <td>0.048387</td>\n",
       "      <td>15</td>\n",
       "    </tr>\n",
       "    <tr>\n",
       "      <th>4</th>\n",
       "      <td>5</td>\n",
       "      <td>27</td>\n",
       "      <td>238</td>\n",
       "      <td>0.113445</td>\n",
       "      <td>15</td>\n",
       "    </tr>\n",
       "    <tr>\n",
       "      <th>0</th>\n",
       "      <td>1</td>\n",
       "      <td>0</td>\n",
       "      <td>58</td>\n",
       "      <td>0.000000</td>\n",
       "      <td>20</td>\n",
       "    </tr>\n",
       "    <tr>\n",
       "      <th>1</th>\n",
       "      <td>2</td>\n",
       "      <td>0</td>\n",
       "      <td>90</td>\n",
       "      <td>0.000000</td>\n",
       "      <td>20</td>\n",
       "    </tr>\n",
       "    <tr>\n",
       "      <th>2</th>\n",
       "      <td>3</td>\n",
       "      <td>5</td>\n",
       "      <td>247</td>\n",
       "      <td>0.020243</td>\n",
       "      <td>20</td>\n",
       "    </tr>\n",
       "    <tr>\n",
       "      <th>3</th>\n",
       "      <td>4</td>\n",
       "      <td>24</td>\n",
       "      <td>310</td>\n",
       "      <td>0.077419</td>\n",
       "      <td>20</td>\n",
       "    </tr>\n",
       "    <tr>\n",
       "      <th>4</th>\n",
       "      <td>5</td>\n",
       "      <td>33</td>\n",
       "      <td>238</td>\n",
       "      <td>0.138655</td>\n",
       "      <td>20</td>\n",
       "    </tr>\n",
       "    <tr>\n",
       "      <th>0</th>\n",
       "      <td>1</td>\n",
       "      <td>0</td>\n",
       "      <td>58</td>\n",
       "      <td>0.000000</td>\n",
       "      <td>25</td>\n",
       "    </tr>\n",
       "    <tr>\n",
       "      <th>1</th>\n",
       "      <td>2</td>\n",
       "      <td>0</td>\n",
       "      <td>90</td>\n",
       "      <td>0.000000</td>\n",
       "      <td>25</td>\n",
       "    </tr>\n",
       "    <tr>\n",
       "      <th>2</th>\n",
       "      <td>3</td>\n",
       "      <td>7</td>\n",
       "      <td>247</td>\n",
       "      <td>0.028340</td>\n",
       "      <td>25</td>\n",
       "    </tr>\n",
       "    <tr>\n",
       "      <th>3</th>\n",
       "      <td>4</td>\n",
       "      <td>30</td>\n",
       "      <td>310</td>\n",
       "      <td>0.096774</td>\n",
       "      <td>25</td>\n",
       "    </tr>\n",
       "    <tr>\n",
       "      <th>4</th>\n",
       "      <td>5</td>\n",
       "      <td>44</td>\n",
       "      <td>238</td>\n",
       "      <td>0.184874</td>\n",
       "      <td>25</td>\n",
       "    </tr>\n",
       "  </tbody>\n",
       "</table>\n",
       "</div>"
      ],
      "text/plain": [
       "   rate  hits  qty  hit_rate   N\n",
       "0     1     0   58  0.000000   5\n",
       "1     2     0   90  0.000000   5\n",
       "2     3     1  247  0.004049   5\n",
       "3     4     5  310  0.016129   5\n",
       "4     5    14  238  0.058824   5\n",
       "0     1     0   58  0.000000  10\n",
       "1     2     0   90  0.000000  10\n",
       "2     3     2  247  0.008097  10\n",
       "3     4     7  310  0.022581  10\n",
       "4     5    20  238  0.084034  10\n",
       "0     1     0   58  0.000000  15\n",
       "1     2     0   90  0.000000  15\n",
       "2     3     3  247  0.012146  15\n",
       "3     4    15  310  0.048387  15\n",
       "4     5    27  238  0.113445  15\n",
       "0     1     0   58  0.000000  20\n",
       "1     2     0   90  0.000000  20\n",
       "2     3     5  247  0.020243  20\n",
       "3     4    24  310  0.077419  20\n",
       "4     5    33  238  0.138655  20\n",
       "0     1     0   58  0.000000  25\n",
       "1     2     0   90  0.000000  25\n",
       "2     3     7  247  0.028340  25\n",
       "3     4    30  310  0.096774  25\n",
       "4     5    44  238  0.184874  25"
      ]
     },
     "execution_count": 8,
     "metadata": {},
     "output_type": "execute_result"
    }
   ],
   "source": [
    "print(\"Evaluate\")\n",
    "top_N = knn.all_useres_recomendation(N=25)\n",
    "for n in range(5,30,5):\n",
    "    hits = hit_rate(knn, data_test,top_N=top_N[:,:n])\n",
    "    hits[\"N\"] = n\n",
    "    hits_rate_list_knn.append(hits)\n",
    "hits_knn_df = pd.concat(hits_rate_list_knn)\n",
    "hits_knn_df"
   ]
  },
  {
   "cell_type": "code",
   "execution_count": 9,
   "metadata": {},
   "outputs": [
    {
     "data": {
      "text/plain": [
       "<matplotlib.axes._subplots.AxesSubplot at 0x123cf2b50>"
      ]
     },
     "execution_count": 9,
     "metadata": {},
     "output_type": "execute_result"
    },
    {
     "data": {
      "image/png": "[encoded data removed]",
      "text/plain": [
       "<Figure size 432x288 with 1 Axes>"
      ]
     },
     "metadata": {
      "needs_background": "light"
     },
     "output_type": "display_data"
    }
   ],
   "source": [
    "grouped_by_N = hits_knn_df.groupby(\"N\").agg({\"hits\":\"sum\", \"qty\":\"sum\"})\n",
    "grouped_by_N[\"hit_rate\"] =  grouped_by_N[\"hits\"]/grouped_by_N[\"qty\"]\n",
    "grouped_by_N.plot.bar(y=\"hit_rate\")"
   ]
  },
  {
   "cell_type": "code",
   "execution_count": 13,
   "metadata": {},
   "outputs": [
    {
     "data": {
      "image/png": "[encoded data removed]",
      "text/plain": [
       "<Figure size 432x288 with 1 Axes>"
      ]
     },
     "metadata": {
      "needs_background": "light"
     },
     "output_type": "display_data"
    }
   ],
   "source": [
    "hits_knn_df.pivot(\"rate\", \"N\", \"hit_rate\").plot(kind='bar')\n",
    "plt.ylim((0,0.52))\n",
    "plt.xlabel(\"ground truth rate\")\n",
    "plt.ylabel(\"hit rate\")\n",
    "plt.title(\"Item-based Segemented hit rate \")\n",
    "plt.grid()\n",
    "plt.savefig(\"./images/item_based_segmented_hr.png\")"
   ]
  },
  {
   "cell_type": "markdown",
   "metadata": {},
   "source": [
    "Due to restrictions of resourses and time, I will compare the SLIM algorithm with respect to the knn item-based algorithm in the 100K Movielens dataset."
   ]
  },
  {
   "cell_type": "code",
   "execution_count": 14,
   "metadata": {},
   "outputs": [
    {
     "name": "stdout",
     "output_type": "stream",
     "text": [
      "Prepare data\n",
      "Train\n",
      "Training for item  500\n",
      "loss  0.8199115968880615\n",
      "Evaluate\n"
     ]
    }
   ],
   "source": [
    "loocv = 1\n",
    "hits_rate_list = []\n",
    "\n",
    "print(\"Prepare data\")\n",
    "user_item = get_user_item(data_train)\n",
    "slim = SLIM()\n",
    "print(\"Train\")\n",
    "slim.fit(user_item)\n",
    "\n",
    "print(\"Evaluate\")\n",
    "top_N = slim.all_useres_recomendation(N=25)\n",
    "for n in range(5,30,5):\n",
    "    hits = hit_rate(slim, data_test,top_N=top_N[:,:n])\n",
    "    hits[\"N\"] = n\n",
    "    hits_rate_list.append(hits)\n",
    "hits_slim_df = pd.concat(hits_rate_list)"
   ]
  },
  {
   "cell_type": "code",
   "execution_count": 15,
   "metadata": {},
   "outputs": [
    {
     "data": {
      "text/plain": [
       "<matplotlib.axes._subplots.AxesSubplot at 0x123cd0990>"
      ]
     },
     "execution_count": 15,
     "metadata": {},
     "output_type": "execute_result"
    },
    {
     "data": {
      "image/png": "[encoded data removed]",
      "text/plain": [
       "<Figure size 432x288 with 1 Axes>"
      ]
     },
     "metadata": {
      "needs_background": "light"
     },
     "output_type": "display_data"
    }
   ],
   "source": [
    "grouped_by_N = hits_slim_df.groupby(\"N\").agg({\"hits\":\"sum\", \"qty\":\"sum\"})\n",
    "grouped_by_N[\"hit_rate\"] =  grouped_by_N[\"hits\"]/grouped_by_N[\"qty\"]\n",
    "grouped_by_N.plot.bar(y=\"hit_rate\")"
   ]
  },
  {
   "cell_type": "code",
   "execution_count": 17,
   "metadata": {},
   "outputs": [
    {
     "data": {
      "image/png": "[encoded data removed]",
      "text/plain": [
       "<Figure size 432x288 with 1 Axes>"
      ]
     },
     "metadata": {
      "needs_background": "light"
     },
     "output_type": "display_data"
    }
   ],
   "source": [
    "hits_slim_df.pivot(\"rate\", \"N\", \"hit_rate\").plot(kind='bar')\n",
    "plt.ylim((0,0.7))\n",
    "plt.xlabel(\"ground truth rate\")\n",
    "plt.ylabel(\"hit rate\")\n",
    "plt.title(\"SLIM Segemented hit rate \")\n",
    "plt.grid()\n",
    "plt.savefig(\"./images/slim_smaller_segmented_hr.png\")"
   ]
  },
  {
   "cell_type": "code",
   "execution_count": 19,
   "metadata": {},
   "outputs": [
    {
     "data": {
      "image/png": "[encoded data removed]",
      "text/plain": [
       "<Figure size 432x288 with 1 Axes>"
      ]
     },
     "metadata": {
      "needs_background": "light"
     },
     "output_type": "display_data"
    }
   ],
   "source": [
    "hits_slim_df[\"algorithm\"] = \"slim\"\n",
    "hits_knn_df[\"algorithm\"] = \"item-based\"\n",
    "df = pd.concat((hits_slim_df,hits_knn_df))\n",
    "grouped_by_N = df.groupby([\"N\",\"algorithm\"]).agg({\"hits\":\"sum\", \"qty\":\"sum\"})\n",
    "grouped_by_N[\"hit_rate\"] =  grouped_by_N[\"hits\"]/grouped_by_N[\"qty\"]\n",
    "grouped_by_N = grouped_by_N.reset_index()\n",
    "grouped_by_N.pivot(\"N\", \"algorithm\", \"hit_rate\").plot(kind='bar')\n",
    "plt.grid()\n",
    "plt.ylabel(\"hit rate\")\n",
    "plt.title(\"SLIM vs Item-based HR by N\")\n",
    "plt.savefig(\"./images/item_based_slim_comp.png\")"
   ]
  },
  {
   "cell_type": "markdown",
   "metadata": {},
   "source": [
    "# Precision/recall metrics\n",
    "Metrics are basen on the paper \"Performance of Recomender Algorithms\". Principaly, I will anlayse the SLIM and PureSVD algorithms on the 1M MovieLens dataset, in order to see different precision/recall values on different splits of the test set. For that reason I split the dataset according to the paper: data_train, data_test that contains only 5 star raitings (1.4% of the whole dataset, where only 5 stars raitings are selected), T_head that are only popular subset of data_test and T_long that are the not popular subdataset of data_test"
   ]
  },
  {
   "cell_type": "code",
   "execution_count": 3,
   "metadata": {},
   "outputs": [
    {
     "data": {
      "text/plain": [
       "<matplotlib.legend.Legend at 0x11cb70250>"
      ]
     },
     "execution_count": 3,
     "metadata": {},
     "output_type": "execute_result"
    },
    {
     "data": {
      "image/png": "[encoded data removed]",
      "text/plain": [
       "<Figure size 576x360 with 1 Axes>"
      ]
     },
     "metadata": {
      "needs_background": "light"
     },
     "output_type": "display_data"
    }
   ],
   "source": [
    "ordered_popularity = data_1_M.groupby(\"movie_id\").agg({\"rating\": \"count\"}).sort_values(by=\"rating\", ascending=False)\n",
    "total = ordered_popularity.rating.sum()\n",
    "ordered_popularity[\"rating_percent\"] = ordered_popularity.rating / total\n",
    "ordered_popularity[\"rating_percent_acum\"] = np.cumsum(ordered_popularity.rating_percent.to_numpy())\n",
    "total_movies = len(ordered_popularity.index)\n",
    "ordered_popularity[\"movie_percent\"] = 1 / total_movies\n",
    "ordered_popularity[\"movies_percent_acum\"] = np.cumsum(ordered_popularity.movie_percent.to_numpy())\n",
    "plt.figure(figsize=(8,5))\n",
    "plt.plot(ordered_popularity.rating_percent_acum, ordered_popularity.movies_percent_acum)\n",
    "plt.yscale(\"log\")\n",
    "plt.title(\"Popularity\")\n",
    "plt.xlabel(\"% of rating\")\n",
    "plt.ylabel(\"% of items\")\n",
    "plt.axvline(x=0.33, ymin=0.04, ymax=1, c=\"red\", label=\"max popularity\")\n",
    "plt.legend()"
   ]
  },
  {
   "cell_type": "code",
   "execution_count": 4,
   "metadata": {},
   "outputs": [
    {
     "name": "stdout",
     "output_type": "stream",
     "text": [
      "Filtered movies  3043\n"
     ]
    }
   ],
   "source": [
    "data_train, data_test,T_head, T_long = precision_recall_split(data_1_M)\n",
    "user_item = get_user_item(data_train)"
   ]
  },
  {
   "cell_type": "markdown",
   "metadata": {},
   "source": [
    "### SLIM"
   ]
  },
  {
   "cell_type": "code",
   "execution_count": 5,
   "metadata": {},
   "outputs": [
    {
     "name": "stdout",
     "output_type": "stream",
     "text": [
      "Training for item  500\n",
      "loss  0.36402633019014824\n",
      "Training for item  1000\n",
      "loss  0.457856722604611\n",
      "Training for item  1500\n",
      "loss  0.42137221422765725\n",
      "Training for item  2000\n",
      "loss  0.40052841131328815\n",
      "Training for item  2500\n",
      "loss  0.39800511327002464\n",
      "Training for item  3000\n",
      "loss  0.38265801011324085\n"
     ]
    }
   ],
   "source": [
    "slim = SLIM()\n",
    "slim.fit(user_item)"
   ]
  },
  {
   "cell_type": "code",
   "execution_count": 15,
   "metadata": {},
   "outputs": [
    {
     "data": {
      "text/plain": [
       "array([[  34, 2917, 3362, ..., 1960, 3702,  954],\n",
       "       [1221,  750, 1244, ...,  930, 3467, 2186],\n",
       "       [1240, 3471, 1199, ..., 2657, 1653, 2528],\n",
       "       ...,\n",
       "       [ 339,  745, 2485, ..., 1210,  708,  260],\n",
       "       [1250, 2289,  926, ...,  909, 1132, 1233],\n",
       "       [2174, 1977,  110, ..., 1198, 1200,  799]])"
      ]
     },
     "execution_count": 15,
     "metadata": {},
     "output_type": "execute_result"
    }
   ],
   "source": [
    "import pdb\n",
    "selection=1000\n",
    "N=10\n",
    "movie_columns = slim.user_item.columns\n",
    "ratings = slim.sparse_user_item * slim.W.T \n",
    "\n",
    "top_N = []\n",
    "\n",
    "max_score = ratings.data.max() * np.ones(slim.sparse_user_item.nnz)\n",
    "elim_matrix = slim.sparse_user_item.copy()\n",
    "elim_matrix.data = max_score\n",
    "\n",
    "ratings = ratings - elim_matrix # set to rating<0 to the movies that are already rated\n",
    "for i,row in data_test.iterrows():\n",
    "    u = row[\"user_id\"]\n",
    "    m = row[\"movie_id\"]\n",
    "    ui, = np.where(slim.user_item.index==u)\n",
    "    r = ratings[ui,:]\n",
    "    selected_list = np.array([ movie_columns[i] for v,i in sorted(zip(r.data,r.indices),reverse=True) if v > 0 or movie_columns[i] == m])\n",
    "    idx = np.random.permutation(len(selected_list))[:selection]\n",
    "    mi, = np.where(selected_list==m)\n",
    "    if len(mi)>0 and not mi[0] in idx: idx = np.concatenate((idx, mi))\n",
    "    idx = sorted(idx)\n",
    "    selected_list = selected_list[idx][:N]\n",
    "    top_N.append(selected_list)\n",
    "np.array(top_N)"
   ]
  },
  {
   "cell_type": "code",
   "execution_count": 9,
   "metadata": {},
   "outputs": [],
   "source": [
    "N_max=25\n",
    "top_N_slim_data_test = slim.all_useres_recomendation_precision_recall(data_test=data_test, N=N_max)\n",
    "top_N_slim_T_head = slim.all_useres_recomendation_precision_recall(data_test=T_head, N=N_max)\n",
    "top_N_slim_T_long = slim.all_useres_recomendation_precision_recall(data_test=T_long, N=N_max)\n",
    "\n",
    "acum_recall_data_test_slim, acum_precision_data_test_slim = compute_precision_recall_by_N(slim, top_N_slim_data_test, data_test)\n",
    "acum_recall_T_head_slim, acum_precision_T_head_slim = compute_precision_recall_by_N(slim, top_N_slim_T_head, T_head)\n",
    "acum_recall_T_long_slim, acum_precision_T_long_slim = compute_precision_recall_by_N(slim, top_N_slim_T_long, T_long)"
   ]
  },
  {
   "cell_type": "code",
   "execution_count": 12,
   "metadata": {},
   "outputs": [
    {
     "data": {
      "image/png": "[encoded data removed]",
      "text/plain": [
       "<Figure size 576x360 with 1 Axes>"
      ]
     },
     "metadata": {
      "needs_background": "light"
     },
     "output_type": "display_data"
    }
   ],
   "source": [
    "N_range = range(1,N_max)\n",
    "plt.figure(figsize=(8,5))\n",
    "plt.plot(N_range, acum_recall_data_test_slim, label=\"full_test_set\")\n",
    "plt.plot(N_range, acum_recall_T_head_slim, label=\"T_head\")\n",
    "plt.plot(N_range, acum_recall_T_long_slim, label=\"T_long\")\n",
    "plt.xticks(N_range)\n",
    "plt.xlabel(\"N size\")\n",
    "plt.ylabel(\"recall\")\n",
    "plt.legend()\n",
    "plt.title(\"SLIM: Recall vs N\")\n",
    "plt.ylim((0, 1))\n",
    "plt.grid()\n",
    "plt.savefig(\"./images/slim_recall.png\")"
   ]
  },
  {
   "cell_type": "code",
   "execution_count": 28,
   "metadata": {},
   "outputs": [
    {
     "data": {
      "text/plain": [
       "(0.47833014659018486, 0.7065584854631508, 0.2760699216395419)"
      ]
     },
     "execution_count": 28,
     "metadata": {},
     "output_type": "execute_result"
    }
   ],
   "source": [
    "acum_recall_data_test_slim[11], acum_recall_T_head_slim[11], acum_recall_T_long_slim[11]"
   ]
  },
  {
   "cell_type": "code",
   "execution_count": 17,
   "metadata": {},
   "outputs": [
    {
     "data": {
      "image/png": "[encoded data removed]",
      "text/plain": [
       "<Figure size 576x360 with 1 Axes>"
      ]
     },
     "metadata": {
      "needs_background": "light"
     },
     "output_type": "display_data"
    }
   ],
   "source": [
    "plt.figure(figsize=(8,5))\n",
    "plt.plot([0]+acum_recall_data_test_slim, [0]+acum_precision_data_test_slim, label=\"full_test_set\")\n",
    "plt.plot([0]+acum_recall_T_head_slim, [0]+acum_precision_T_head_slim, label=\"T_head\")\n",
    "plt.plot([0]+acum_recall_T_long_slim, [0]+acum_precision_T_long_slim, label=\"T_long\")\n",
    "plt.xlabel(\"recall\")\n",
    "plt.ylabel(\"precision\")\n",
    "plt.legend()\n",
    "plt.title(\"SLIM: Precision vs Recall\")\n",
    "plt.ylim((0, 0.5))\n",
    "plt.grid()\n",
    "plt.savefig(\"./images/slim_prec_recall.png\")"
   ]
  },
  {
   "cell_type": "code",
   "execution_count": 38,
   "metadata": {},
   "outputs": [
    {
     "data": {
      "text/plain": [
       "([0.15296367112810708,\n",
       "  0.1147227533460803,\n",
       "  0.09315912470788189,\n",
       "  0.07990758444869343,\n",
       "  0.07017208413001912,\n",
       "  0.062353940939026985,\n",
       "  0.056632978239096785,\n",
       "  0.05170490758444869,\n",
       "  0.04794278025635578,\n",
       "  0.044805608667941366,\n",
       "  0.042209861521525,\n",
       "  0.039860845549182074,\n",
       "  0.03787321664950728,\n",
       "  0.03591914777383228,\n",
       "  0.03443807095814744,\n",
       "  0.033022625876354364,\n",
       "  0.0318674314850223,\n",
       "  0.030468805325401884,\n",
       "  0.029351581630941603,\n",
       "  0.028537284894837478,\n",
       "  0.027572915718231204,\n",
       "  0.026652760878382295,\n",
       "  0.025743342477900628,\n",
       "  0.024936265137029956],\n",
       " [0.15296367112810708,\n",
       "  0.2294455066921606,\n",
       "  0.27947737412364565,\n",
       "  0.31963033779477373,\n",
       "  0.3508604206500956,\n",
       "  0.3741236456341619,\n",
       "  0.3964308476736775,\n",
       "  0.41363926067558954,\n",
       "  0.43148502230720204,\n",
       "  0.44805608667941366,\n",
       "  0.464308476736775,\n",
       "  0.47833014659018486,\n",
       "  0.49235181644359466,\n",
       "  0.502868068833652,\n",
       "  0.5165710643722116,\n",
       "  0.5283620140216698,\n",
       "  0.5417463352453792,\n",
       "  0.5484384958572339,\n",
       "  0.5576800509878904,\n",
       "  0.5707456978967496,\n",
       "  0.5790312300828553,\n",
       "  0.5863607393244105,\n",
       "  0.5920968769917144,\n",
       "  0.5984703632887189])"
      ]
     },
     "execution_count": 38,
     "metadata": {},
     "output_type": "execute_result"
    }
   ],
   "source": [
    "acum_precision_data_test_slim, acum_recall_data_test_slim"
   ]
  },
  {
   "cell_type": "markdown",
   "metadata": {},
   "source": [
    "### PureSVD"
   ]
  },
  {
   "cell_type": "code",
   "execution_count": 18,
   "metadata": {},
   "outputs": [],
   "source": [
    "pure_svd = PureSVD(latent_factors=50)\n",
    "pure_svd.fit(user_item)"
   ]
  },
  {
   "cell_type": "code",
   "execution_count": 19,
   "metadata": {},
   "outputs": [],
   "source": [
    "N_max = 25\n",
    "top_N_pure_svd_data_test = pure_svd.all_useres_recomendation_precision_recall(data_test=data_test, N=N_max)\n",
    "top_N_pure_svd_T_head = pure_svd.all_useres_recomendation_precision_recall(data_test=T_head, N=N_max)\n",
    "top_N_pure_svd_T_long = pure_svd.all_useres_recomendation_precision_recall(data_test=T_long, N=N_max)\n",
    "\n",
    "acum_recall_data_test_pure_svd, acum_precision_data_test_pure_svd = compute_precision_recall_by_N(pure_svd, top_N_pure_svd_data_test, data_test)\n",
    "acum_recall_T_head_pure_svd, acum_precision_T_head_pure_svd = compute_precision_recall_by_N(pure_svd, top_N_pure_svd_T_head, T_head)\n",
    "acum_recall_T_long_pure_svd, acum_precision_T_long_pure_svd = compute_precision_recall_by_N(pure_svd, top_N_pure_svd_T_long, T_long)"
   ]
  },
  {
   "cell_type": "code",
   "execution_count": 20,
   "metadata": {},
   "outputs": [
    {
     "data": {
      "image/png": "[encoded data removed]",
      "text/plain": [
       "<Figure size 576x360 with 1 Axes>"
      ]
     },
     "metadata": {
      "needs_background": "light"
     },
     "output_type": "display_data"
    }
   ],
   "source": [
    "N_range = range(1,N_max)\n",
    "plt.figure(figsize=(8,5))\n",
    "plt.plot(N_range, acum_recall_data_test_pure_svd, label=\"full_test_set\")\n",
    "plt.plot(N_range, acum_recall_T_head_pure_svd, label=\"T_head\")\n",
    "plt.plot(N_range, acum_recall_T_long_pure_svd, label=\"T_long\")\n",
    "plt.xticks(N_range)\n",
    "plt.xlabel(\"N size\")\n",
    "plt.ylabel(\"recall\")\n",
    "plt.legend()\n",
    "plt.title(\"PureSVD: Recall vs N\")\n",
    "plt.ylim((0, 1))\n",
    "plt.grid()\n",
    "plt.savefig(\"./images/pure_svd_recall.png\")"
   ]
  },
  {
   "cell_type": "code",
   "execution_count": 30,
   "metadata": {},
   "outputs": [
    {
     "data": {
      "text/plain": [
       "(0.44423199490121096, 0.6572008113590264, 0.2579867389993972)"
      ]
     },
     "execution_count": 30,
     "metadata": {},
     "output_type": "execute_result"
    }
   ],
   "source": [
    "acum_recall_data_test_pure_svd[11], acum_recall_T_head_pure_svd[11], acum_recall_T_long_pure_svd[11]"
   ]
  },
  {
   "cell_type": "code",
   "execution_count": 23,
   "metadata": {},
   "outputs": [
    {
     "data": {
      "image/png": "[encoded data removed]",
      "text/plain": [
       "<Figure size 576x360 with 1 Axes>"
      ]
     },
     "metadata": {
      "needs_background": "light"
     },
     "output_type": "display_data"
    }
   ],
   "source": [
    "plt.figure(figsize=(8,5))\n",
    "plt.plot([0]+acum_recall_data_test_pure_svd, [0]+acum_precision_data_test_pure_svd, label=\"full_test_set\")\n",
    "plt.plot([0]+acum_recall_T_head_pure_svd, [0]+acum_precision_T_head_pure_svd, label=\"T_head\")\n",
    "plt.plot([0]+acum_recall_T_long_pure_svd, [0]+acum_precision_T_long_pure_svd, label=\"T_long\")\n",
    "plt.xlabel(\"recall\")\n",
    "plt.ylabel(\"precision\")\n",
    "plt.legend()\n",
    "plt.title(\"SLIM: Precision vs Recall\")\n",
    "plt.ylim((0, 0.5))\n",
    "plt.grid()\n",
    "plt.savefig(\"./images/pure_svd_prec_recall.png\")"
   ]
  },
  {
   "cell_type": "markdown",
   "metadata": {},
   "source": [
    "#### SLIM and PureSVD comparision"
   ]
  },
  {
   "cell_type": "code",
   "execution_count": 24,
   "metadata": {},
   "outputs": [
    {
     "data": {
      "text/plain": [
       "Text(0.5, 1.0, 'SLIM vs PureSVD: Recall vs N full_test_set')"
      ]
     },
     "execution_count": 24,
     "metadata": {},
     "output_type": "execute_result"
    },
    {
     "data": {
      "image/png": "[encoded data removed]",
      "text/plain": [
       "<Figure size 576x360 with 1 Axes>"
      ]
     },
     "metadata": {
      "needs_background": "light"
     },
     "output_type": "display_data"
    }
   ],
   "source": [
    "N_range = range(1,N_max)\n",
    "plt.figure(figsize=(8,5))\n",
    "plt.plot(N_range, acum_recall_data_test_slim, label=\"SLIM_full_test_set\")\n",
    "plt.plot(N_range, acum_recall_data_test_pure_svd, label=\"PureSVD_full_test_set\")\n",
    "plt.xticks(N_range)\n",
    "plt.xlabel(\"N size\")\n",
    "plt.ylabel(\"recall\")\n",
    "plt.legend()\n",
    "plt.title(\"SLIM vs PureSVD: Recall vs N full_test_set\")"
   ]
  },
  {
   "cell_type": "code",
   "execution_count": 34,
   "metadata": {},
   "outputs": [
    {
     "data": {
      "image/png": "[encoded data removed]",
      "text/plain": [
       "<Figure size 576x360 with 1 Axes>"
      ]
     },
     "metadata": {
      "needs_background": "light"
     },
     "output_type": "display_data"
    }
   ],
   "source": [
    "N_range = range(1,N_max)\n",
    "plt.figure(figsize=(8,5))\n",
    "plt.plot(N_range, acum_recall_T_head_slim, label=\"SLIM_T_head\")\n",
    "plt.plot(N_range, acum_recall_T_head_pure_svd, label=\"PureSVD_T_head\")\n",
    "plt.xticks(N_range)\n",
    "plt.xlabel(\"N size\")\n",
    "plt.ylabel(\"recall\")\n",
    "plt.legend()\n",
    "plt.ylim((0,1))\n",
    "plt.title(\"SLIM vs PureSVD: Recall vs N T_head\")\n",
    "plt.savefig(\"./images/slim_vs_pure_svd_t_head.png\")"
   ]
  },
  {
   "cell_type": "code",
   "execution_count": 35,
   "metadata": {},
   "outputs": [
    {
     "data": {
      "image/png": "[encoded data removed]",
      "text/plain": [
       "<Figure size 576x360 with 1 Axes>"
      ]
     },
     "metadata": {
      "needs_background": "light"
     },
     "output_type": "display_data"
    }
   ],
   "source": [
    "N_range = range(1,N_max)\n",
    "plt.figure(figsize=(8,5))\n",
    "plt.plot(N_range, acum_recall_T_long_slim, label=\"SLIM_T_long\")\n",
    "plt.plot(N_range, acum_recall_T_long_pure_svd, label=\"PureSVD_T_long\")\n",
    "plt.xticks(N_range)\n",
    "plt.xlabel(\"N size\")\n",
    "plt.ylabel(\"recall\")\n",
    "plt.legend()\n",
    "plt.ylim((0,1))\n",
    "plt.title(\"SLIM vs PureSVD: Recall vs N T_long\")\n",
    "plt.savefig(\"./images/slim_vs_pure_svd_t_long.png\")"
   ]
  },
  {
   "cell_type": "markdown",
   "metadata": {},
   "source": [
    "### MAE and RMSE accuracy\n",
    "As I am using diferent datasets on the algorithms I will compute SLIM and PureSVD MAE and RMSE with the 1M MovieLens dataset first. After that I will add item-based memory model, so I retrain every model again with 100k MovieLens.\n",
    "Again the split on datsets will be different, I will sample 10% for testing and assuring that all test movies are in training split"
   ]
  },
  {
   "cell_type": "code",
   "execution_count": 39,
   "metadata": {},
   "outputs": [
    {
     "name": "stdout",
     "output_type": "stream",
     "text": [
      "Prepare data\n",
      "Total movies 3706\n",
      "Filtered movies  3043\n",
      "(894550, 5)\n",
      "(100942, 5)\n",
      "Users: 6040\n",
      "Movies: 3043\n"
     ]
    }
   ],
   "source": [
    "print(\"Prepare data\")\n",
    "data_train, data_test = split_train_val_by_movie(data_1_M, assign_=assign_generator(test_size=0.1))\n",
    "user_item = get_user_item(data_train)"
   ]
  },
  {
   "cell_type": "code",
   "execution_count": 40,
   "metadata": {},
   "outputs": [
    {
     "name": "stdout",
     "output_type": "stream",
     "text": [
      "Training for item  500\n",
      "loss  0.3589551855772157\n",
      "Training for item  1000\n",
      "loss  0.4541297976634844\n",
      "Training for item  1500\n",
      "loss  0.41697320063840265\n",
      "Training for item  2000\n",
      "loss  0.39520894843895266\n",
      "Training for item  2500\n",
      "loss  0.3916917647133577\n",
      "Training for item  3000\n",
      "loss  0.37555642000042355\n"
     ]
    }
   ],
   "source": [
    "slim = SLIM()\n",
    "slim.fit(user_item)"
   ]
  },
  {
   "cell_type": "code",
   "execution_count": 41,
   "metadata": {},
   "outputs": [
    {
     "data": {
      "text/plain": [
       "1.1156052589176533"
      ]
     },
     "execution_count": 41,
     "metadata": {},
     "output_type": "execute_result"
    }
   ],
   "source": [
    "slim.estimate(8,50)"
   ]
  },
  {
   "cell_type": "code",
   "execution_count": 42,
   "metadata": {},
   "outputs": [],
   "source": [
    "pure_svd = PureSVD(latent_factors=40)\n",
    "pure_svd.fit(user_item)"
   ]
  },
  {
   "cell_type": "code",
   "execution_count": 43,
   "metadata": {},
   "outputs": [
    {
     "data": {
      "text/plain": [
       "0.5433639793339314"
      ]
     },
     "execution_count": 43,
     "metadata": {},
     "output_type": "execute_result"
    }
   ],
   "source": [
    "pure_svd.estimate(8,50)"
   ]
  },
  {
   "cell_type": "code",
   "execution_count": 44,
   "metadata": {},
   "outputs": [
    {
     "name": "stdout",
     "output_type": "stream",
     "text": [
      "SLIM RMSE in test:  2.43860664926183\n",
      "SLIM MAE in test:  2.105979979384511\n",
      "CPU times: user 4min 8s, sys: 22.1 s, total: 4min 30s\n",
      "Wall time: 4min 37s\n"
     ]
    }
   ],
   "source": [
    "%%time\n",
    "import pdb\n",
    "slim_rmse, slim_mae = evaluate_mae_rmse(slim.estimate,data_train,data_test)\n",
    "print(\"SLIM RMSE in test: \", slim_rmse)\n",
    "print(\"SLIM MAE in test: \", slim_mae)"
   ]
  },
  {
   "cell_type": "code",
   "execution_count": 45,
   "metadata": {},
   "outputs": [
    {
     "data": {
      "text/plain": [
       "array([4, 4, 5, ..., 4, 3, 3])"
      ]
     },
     "execution_count": 45,
     "metadata": {},
     "output_type": "execute_result"
    }
   ],
   "source": [
    "np.array(data_test.rating.values)"
   ]
  },
  {
   "cell_type": "code",
   "execution_count": 46,
   "metadata": {},
   "outputs": [
    {
     "name": "stdout",
     "output_type": "stream",
     "text": [
      "PureSVD RMSE in test:  2.476077218048621\n",
      "PureSVD MAE in test:  2.157411783843988\n",
      "CPU times: user 54.1 s, sys: 669 ms, total: 54.8 s\n",
      "Wall time: 58 s\n"
     ]
    }
   ],
   "source": [
    "%%time\n",
    "pure_svd_rmse, pure_svd_mae = evaluate_mae_rmse(pure_svd.estimate,data_train,data_test)\n",
    "print(\"PureSVD RMSE in test: \", pure_svd_rmse)\n",
    "print(\"PureSVD MAE in test: \", pure_svd_mae)"
   ]
  },
  {
   "cell_type": "markdown",
   "metadata": {},
   "source": [
    "Following I will add item-based model, and retrain everything with 100K"
   ]
  },
  {
   "cell_type": "code",
   "execution_count": 47,
   "metadata": {},
   "outputs": [
    {
     "name": "stdout",
     "output_type": "stream",
     "text": [
      "Prepare data\n",
      "Total movies 1682\n",
      "Filtered movies  939\n",
      "(85043, 8)\n",
      "(9925, 8)\n",
      "Users: 943\n",
      "Movies: 939\n"
     ]
    }
   ],
   "source": [
    "print(\"Prepare data\")\n",
    "data_train, data_test = split_train_val_by_movie(data_100k, assign_=assign_generator(test_size=0.1))\n",
    "user_item = get_user_item(data_train)"
   ]
  },
  {
   "cell_type": "code",
   "execution_count": 48,
   "metadata": {},
   "outputs": [
    {
     "name": "stdout",
     "output_type": "stream",
     "text": [
      "KNN RMSE in test:  0.9692170691159439\n",
      "KNN MAE in test:  0.7624980117215545\n"
     ]
    }
   ],
   "source": [
    "knn = ItemBasedCF(knei=40)\n",
    "knn.fit(data_train)\n",
    "knn_rmse, knn_mae = evaluate_mae_rmse(knn.estimate,data_train,data_test)\n",
    "print(\"KNN RMSE in test: \", knn_rmse)\n",
    "print(\"KNN MAE in test: \", knn_mae)"
   ]
  },
  {
   "cell_type": "code",
   "execution_count": 49,
   "metadata": {},
   "outputs": [
    {
     "name": "stdout",
     "output_type": "stream",
     "text": [
      "Training for item  500\n",
      "loss  0.8237057760087432\n",
      "SLIM RMSE in test:  2.4231512385280682\n",
      "SLIM MAE in test:  2.10447800508614\n"
     ]
    }
   ],
   "source": [
    "slim = SLIM()\n",
    "slim.fit(user_item)\n",
    "slim_rmse, slim_mae = evaluate_mae_rmse(slim.estimate,data_train,data_test)\n",
    "print(\"SLIM RMSE in test: \", slim_rmse)\n",
    "print(\"SLIM MAE in test: \", slim_mae)"
   ]
  },
  {
   "cell_type": "code",
   "execution_count": 50,
   "metadata": {},
   "outputs": [
    {
     "name": "stdout",
     "output_type": "stream",
     "text": [
      "PureSVD RMSE in test:  2.555754346205889\n",
      "PureSVD MAE in test:  2.2400536439514425\n"
     ]
    }
   ],
   "source": [
    "pure_svd = PureSVD(latent_factors=40)\n",
    "pure_svd.fit(user_item)\n",
    "pure_svd_rmse, pure_svd_mae = evaluate_mae_rmse(pure_svd.estimate,data_train,data_test)\n",
    "print(\"PureSVD RMSE in test: \", pure_svd_rmse)\n",
    "print(\"PureSVD MAE in test: \", pure_svd_mae)"
   ]
  },
  {
   "cell_type": "code",
   "execution_count": 52,
   "metadata": {},
   "outputs": [],
   "source": [
    "data_dict = {\n",
    "    \"mae\": [pure_svd_mae,slim_mae, knn_mae],\n",
    "    \"rmse\": [pure_svd_rmse, slim_rmse, knn_rmse],\n",
    "    \"model\": [\"PureSVD\", \"SLIM\", \"knn item-based\"]\n",
    "}\n",
    "df = pd.DataFrame(data_dict)"
   ]
  },
  {
   "cell_type": "code",
   "execution_count": 63,
   "metadata": {},
   "outputs": [
    {
     "data": {
      "image/png": "[encoded data removed]",
      "text/plain": [
       "<Figure size 432x288 with 1 Axes>"
      ]
     },
     "metadata": {
      "needs_background": "light"
     },
     "output_type": "display_data"
    }
   ],
   "source": [
    "df.plot.bar(x = \"model\",y=\"rmse\")\n",
    "plt.grid()\n",
    "plt.ylabel(\"RMSE\")\n",
    "plt.title(\"RMSE\")\n",
    "plt.ylim((0,2.7))\n",
    "plt.savefig(\"./images/rmse\")"
   ]
  },
  {
   "cell_type": "code",
   "execution_count": 64,
   "metadata": {},
   "outputs": [
    {
     "data": {
      "image/png": "[encoded data removed]",
      "text/plain": [
       "<Figure size 432x288 with 1 Axes>"
      ]
     },
     "metadata": {
      "needs_background": "light"
     },
     "output_type": "display_data"
    }
   ],
   "source": [
    "df.plot.bar(x = \"model\",y=\"mae\")\n",
    "plt.grid()\n",
    "plt.ylabel(\"MAE\")\n",
    "plt.title(\"MAE\")\n",
    "plt.ylim((0,2.7))\n",
    "plt.savefig(\"./images/mae\")"
   ]
  },
  {
   "cell_type": "code",
   "execution_count": null,
   "metadata": {},
   "outputs": [],
   "source": []
  }
 ],
 "metadata": {
  "kernelspec": {
   "display_name": "RECOMENDERS",
   "language": "python",
   "name": "recomenders"
  },
  "language_info": {
   "codemirror_mode": {
    "name": "ipython",
    "version": 3
   },
   "file_extension": ".py",
   "mimetype": "text/x-python",
   "name": "python",
   "nbconvert_exporter": "python",
   "pygments_lexer": "ipython3",
   "version": "3.7.4"
  }
 },
 "nbformat": 4,
 "nbformat_minor": 4
}
